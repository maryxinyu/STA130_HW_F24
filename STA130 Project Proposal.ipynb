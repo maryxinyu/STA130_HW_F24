{
 "cells": [
  {
   "attachments": {},
   "cell_type": "markdown",
   "id": "e81a6419",
   "metadata": {},
   "source": [
    "STA130 Project Proposal"
   ]
  },
  {
   "attachments": {},
   "cell_type": "markdown",
   "id": "39a82d0e",
   "metadata": {},
   "source": [
    "Analysis 1: “Do older people feel more life satisfaction?”"
   ]
  },
  {
   "attachments": {},
   "cell_type": "markdown",
   "id": "698c9b54",
   "metadata": {},
   "source": [
    "Variables—\n",
    "The variables age and life satisfaction were chosen to explore the research question of whether older people feel more satisfied in life. I plan to explore them by assigning age as the predictor and life satisfaction as the outcome. \n",
    "A scatterplot may be useful as a visualization for visualizing this data as it can show the direct relationship between age and life satisfaction. It can visualize outliers and trends in the data."
   ]
  },
  {
   "attachments": {},
   "cell_type": "markdown",
   "id": "418576a1",
   "metadata": {},
   "source": [
    "Age (x): the predictor or independent variable that represents the age of each participant. It is measured in years and the number is continuous."
   ]
  },
  {
   "cell_type": "markdown",
   "id": "7463dd99",
   "metadata": {},
   "source": [
    "Life Satisfaction (y): the outcome or dependent variable that represents the life satisfaction of each participant. This was based on a rating on a scale from 1-10."
   ]
  },
  {
   "attachments": {},
   "cell_type": "markdown",
   "id": "8781aaae",
   "metadata": {},
   "source": [
    "Analysis Description: Simple Linear Regression Model"
   ]
  },
  {
   "attachments": {},
   "cell_type": "markdown",
   "id": "57661b26",
   "metadata": {},
   "source": [
    "The analysis I plan to perform is using the simple linear regression model. We use the equation, Y=β0+β1X+ϵ, where Y is life satisfaction, β0 is the y-intercept or expected value of Y when X is 0, β1 is the slope, X is age, and ϵ is error term. I will fit the linear regression model to my data and then calculate the predicted values for life satisfaction for each observation in the dataset. By looking at the coefficients and R-squared I can determine the strength and direction between age and life satisfaction, including proportion of variance in the life satisfaction explained by the age. We assume that there is a linear relationship between the dependent and independent variable."
   ]
  },
  {
   "attachments": {},
   "cell_type": "markdown",
   "id": "f8018506",
   "metadata": {},
   "source": [
    "The possible results could be that the slope of the data is positive or negative. If positive, life satisfaction increases with age, if negative, it decreases with age. If the R-squared is closer to 1 then a significant proportion of the variation in life satisfaction is explained by age. If it is closer to 0, age does not explain much of the variation in life satisfaction. These results are relevant to answering the research question as it shows the relationship between age and life satisfaction."
   ]
  },
  {
   "attachments": {},
   "cell_type": "markdown",
   "id": "4b556472",
   "metadata": {},
   "source": [
    "Analysis 2: “Does having more meaningful interactions contribute to a person’s happiness?”"
   ]
  },
  {
   "attachments": {},
   "cell_type": "markdown",
   "id": "c18b7919",
   "metadata": {},
   "source": [
    "Variables—\n",
    "A box plot or bar chart could be used to visualize the data, as it would show the distribution of happiness scores for each category of meaningful interaction. Using a box plot we can visualize the median, the quartiles can help show the distribution around it, and outliers are easily identifiable. A bar chart can visualize the happiness mean of each category."
   ]
  },
  {
   "attachments": {},
   "cell_type": "markdown",
   "id": "8f33f9e7",
   "metadata": {},
   "source": [
    "Meaningful Interactions (x): the independent variable that represents the frequency of meaningful interactions the person has engaged in. It has multiple categories."
   ]
  },
  {
   "attachments": {},
   "cell_type": "markdown",
   "id": "cebd37b0",
   "metadata": {},
   "source": [
    "Subjective Happiness Scale (y): the dependent variable that represents how happy the person considers themselves. 1 is not a very happy person, and 7 is a very happy person. "
   ]
  },
  {
   "attachments": {},
   "cell_type": "markdown",
   "id": "05ab76c0",
   "metadata": {},
   "source": [
    "Analysis Description: Hypothesis Testing"
   ]
  },
  {
   "attachments": {},
   "cell_type": "markdown",
   "id": "288d0c29",
   "metadata": {},
   "source": [
    "To do hypothesis testing, my null hypothesis would be that the mean happiness score is the same across all categories of meaningful interactions, and the alternative hypothesis would be that the mean happiness score is different for at least one category of meaningful interactions. I would first need to find the mean happiness score for each frequency of meaningful interactions. If my significance level is 0.05, I need to compare that with the p-value I get from the data calculations."
   ]
  },
  {
   "attachments": {},
   "cell_type": "markdown",
   "id": "8819652e",
   "metadata": {},
   "source": [
    "The results could be that the p-value is less than the significance level, therefore leading us to reject the null hypothesis as meaningful interactions have an impact on happiness levels, whereas if the p-value is greater than 0.05 we fail to reject the null hypothesis, suggesting that there is no significant impact of meaningful interactions on happiness."
   ]
  },
  {
   "attachments": {},
   "cell_type": "markdown",
   "id": "7c17d6c7",
   "metadata": {},
   "source": [
    "Analysis 3: “Are people who work from home more physically healthy?”"
   ]
  },
  {
   "attachments": {},
   "cell_type": "markdown",
   "id": "2a64303a",
   "metadata": {},
   "source": [
    "Variables—\n",
    "Bar charts are a simple and effective method to visualize this information. It can show the differences in means by comparing the average physical health scores between people who work from home more and those who do not. "
   ]
  },
  {
   "attachments": {},
   "cell_type": "markdown",
   "id": "d010739a",
   "metadata": {},
   "source": [
    "Shift From Home (x): The independent variable representing whether the person works from home or not. This variable is categorical."
   ]
  },
  {
   "attachments": {},
   "cell_type": "markdown",
   "id": "348a4020",
   "metadata": {},
   "source": [
    "Physical Health (y): The dependent variable and represents the physical health of the person."
   ]
  },
  {
   "attachments": {},
   "cell_type": "markdown",
   "id": "1337850a",
   "metadata": {},
   "source": [
    "Analysis Description: Bootstrapping"
   ]
  },
  {
   "attachments": {},
   "cell_type": "markdown",
   "id": "3ed438d9",
   "metadata": {},
   "source": [
    "For each category of how frequently each person works from home, I will find the proportion of health statuses. To resample the data, I will set the number of bootstrap samples to a larger number such as 1000 and then resample with replacement. I can do this by selecting observations from my original dataset with replacement, meaning each can be selected multiple times. For each bootstrap sample I will calculate the proportion of individuals in each physical health category within each shift from home category. After storing the data in a new list, I can calculate the confidence intervals and analyze the variability to see how consistent the results are across different samples."
   ]
  },
  {
   "attachments": {},
   "cell_type": "markdown",
   "id": "7ee3f567",
   "metadata": {},
   "source": [
    "The results could vary. The null hypothesis for this would be that there is no different or effect between working from home and physical health. After bootstrapping, if most people who work from home are reported with better health with a bootstrapped estimate that is high in a 95% confidence interval, I can interpret that most people are likely to be in good health when working from home. In bootstrapping, the initial sample should be representative of the population."
   ]
  }
 ],
 "metadata": {
  "kernelspec": {
   "display_name": "Python 3 (ipykernel)",
   "language": "python",
   "name": "python3"
  },
  "language_info": {
   "codemirror_mode": {
    "name": "ipython",
    "version": 3
   },
   "file_extension": ".py",
   "mimetype": "text/x-python",
   "name": "python",
   "nbconvert_exporter": "python",
   "pygments_lexer": "ipython3",
   "version": "3.11.6"
  }
 },
 "nbformat": 4,
 "nbformat_minor": 5
}
