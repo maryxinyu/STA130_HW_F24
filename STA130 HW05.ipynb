{
 "cells": [
  {
   "cell_type": "markdown",
   "id": "a457cb2c",
   "metadata": {},
   "source": [
    "Prelecture HW"
   ]
  },
  {
   "cell_type": "markdown",
   "id": "bf4a2b4a",
   "metadata": {},
   "source": [
    "1)"
   ]
  },
  {
   "cell_type": "markdown",
   "id": "e4038342",
   "metadata": {},
   "source": [
    "Ideas are testable statistically when they are hypotheses, can be quantified, measured and observed. They are not testable if they are qualitative, without operational definitions that can be tested quantitatively. A good null hypotheses should be able to be tested statistically, precise, and without bias. It should be able to be proven wrong, and based on existing knowledge, or reasonable assumptions. In hypothesis testing, null hypothesis is the baseline hypothesis, that indicates that there is no effect or change between the variables. Alternative hypothesis is the hypothesis that states there is an effect or change between the variables, challenging the null hypothesis. The null hypothesis is usually a starting point for testing, we either support or reject it, and if it is rejected, then the alternative hypothesis is supported instead. "
   ]
  },
  {
   "cell_type": "markdown",
   "id": "fa30ca93",
   "metadata": {},
   "source": [
    "Summary of Chatbot Session 1: \"In this session, we discussed several key statistical concepts:\n",
    "\n",
    "Difference between Testable and Non-Testable Ideas: Ideas that can be examined statistically must be measurable and quantifiable, allowing for data collection and analysis.\n",
    "\n",
    "Criteria for a Good Null Hypothesis: A good null hypothesis should be testable, specific, falsifiable, neutral, and plausible.\n",
    "\n",
    "Difference Between Null and Alternative Hypotheses: The null hypothesis (H₀) assumes no effect or difference, while the alternative hypothesis (H₁) suggests there is an effect or difference. Hypothesis testing aims to determine whether the null hypothesis can be rejected in favor of the alternative hypothesis.\n",
    "\n",
    "Would you like to dive deeper into any of these topics or explore another concept?\""
   ]
  },
  {
   "cell_type": "markdown",
   "id": "ceedf439",
   "metadata": {},
   "source": [
    "Link to Chatbot Session 1: https://chatgpt.com/share/670536a9-6b8c-8005-b989-a80215b1f61a"
   ]
  },
  {
   "cell_type": "markdown",
   "id": "1e8e96a9",
   "metadata": {},
   "source": [
    "2)"
   ]
  },
  {
   "cell_type": "markdown",
   "id": "75e2e882",
   "metadata": {},
   "source": [
    "𝑥𝑖 represents the individual data points in a sample, x̄ is the sample mean (the average of all the 𝑥𝑖's in the sample), μ is the population mean (the true average of the entire population), μ0 is a hypothesized value of the population mean. The sentence means that when doing statistical tests like hypothesis testing we need to make inferences of the μ (population parameter) and not just the x̄ (sample statistic). The sample mean tells us the average of the sample, but we want to know the average of the whole population. The test results should provide insight into the population's average, not just the sample's."
   ]
  },
  {
   "cell_type": "markdown",
   "id": "7ba7c553",
   "metadata": {},
   "source": [
    "3)"
   ]
  },
  {
   "cell_type": "markdown",
   "id": "602759bd",
   "metadata": {},
   "source": [
    "When performing a statistical test, we calculate a test statistic based on the sample data, and the sampling distribution shows how this statistic would behave if we repeatedly took samples. By imagining the null hypothesis is true, we assume there's no real effect in the population, meaning any variation is due to chance. This lets us model the sampling distribution under the null hypothesis, enabling us to calculate the p-value (the probability of obtaining a test statistic as extreme as ours by random chance). A small p-value suggests our data is unlikely under the null hypothesis, providing evidence to determine whether or not our data should be rejected."
   ]
  },
  {
   "cell_type": "markdown",
   "id": "72c9c649",
   "metadata": {},
   "source": [
    "Summary of Chatbot Session 2: \"Certainly! Here’s a summary of our discussion:\n",
    "\n",
    "1. **Interpreting Statistical Tests**: We talked about the distinction between sample statistics (like individual data points \\(x_i\\) and the sample mean \\(\\bar{x}\\)) and population parameters (like the population mean \\(\\mu\\) and hypothesized mean \\(\\mu_0\\)). The key point was that statistical tests aim to make inferences about the population parameter (\\(\\mu\\)), not just the sample statistic (\\(\\bar{x}\\)).\n",
    "\n",
    "2. **Understanding p-values**: We discussed why statistical tests \"imagine a world where the null hypothesis is true\" when calculating a p-value. The reason is to assess how unusual our sample data would be if the null hypothesis (no effect in the population) were true.\n",
    "\n",
    "3. **Role of the Sampling Distribution Under the Null Hypothesis**: The sampling distribution of the test statistic under the null hypothesis helps us determine how likely or unusual our observed test statistic is. The p-value is the probability of observing a test statistic as extreme as the one we found (or more extreme) under the assumption that the null hypothesis is true.\n",
    "\n",
    "4. **Decision-making**: If the p-value is very low, it suggests that our observed data is unlikely under the null hypothesis, giving us reason to reject the null hypothesis and infer that there may be a real effect in the population.\n",
    "\n",
    "Overall, the discussion clarified how hypothesis testing uses the sampling distribution and p-values to draw conclusions about population parameters based on sample data.\""
   ]
  },
  {
   "cell_type": "markdown",
   "id": "c4cb9a06",
   "metadata": {},
   "source": [
    "Link to Chatbot Session 2: https://chatgpt.com/share/670af1ff-ed28-8005-b732-250b1f2f922f"
   ]
  },
  {
   "cell_type": "markdown",
   "id": "f0fd59d9",
   "metadata": {},
   "source": [
    "4)"
   ]
  },
  {
   "cell_type": "markdown",
   "id": "e308f7f2",
   "metadata": {},
   "source": [
    "The p-value is the probability of getting results at least as extreme as the observed results, assuming that the null hypothesis is true. The test statistic measures how far the sample data is from what the null hypothesis predicts. The sample distribution describes how the test statistic would behave if the null hypothesis were true. The null hypothesis represents a statement of no effect/difference. When we calculate a p-value, we are assessing where the observed test statistic falls within the sampling distribution. The smaller the p-value means the observed test statistic is in an extreme region of the sampling distribution under the null hypothesis, and this implies that the observed data is unlikely to occur under the assumption that the null hypothesis is true, which makes the null hypothesis seem \"ridiculous\" and less credible."
   ]
  },
  {
   "cell_type": "markdown",
   "id": "9a37561b",
   "metadata": {},
   "source": [
    "Summary of Chatbot Session 3: \"Sure! Here's a summary of our session:\n",
    "\n",
    "1. **Understanding p-values**: We discussed the definition and interpretation of p-values in hypothesis testing. A p-value quantifies the probability of observing your data (or something more extreme) under the assumption that the null hypothesis is true.\n",
    "\n",
    "2. **Relationship with Test Statistic**: \n",
    "   - We explained the role of the test statistic, which measures how far your sample data is from what the null hypothesis predicts.\n",
    "   - The sampling distribution under the null hypothesis describes the expected behavior of the test statistic if \\(H_0\\) is true.\n",
    "\n",
    "3. **Small p-values and the Null Hypothesis**:\n",
    "   - We explored how smaller p-values indicate that the observed test statistic is unlikely under the null hypothesis, leading to a stronger case against it.\n",
    "   - This can make the null hypothesis seem \"ridiculous\" because it suggests that the observed results would be very rare if \\(H_0\\) were true.\n",
    "\n",
    "If you have any other questions or need further clarification, feel free to ask!\""
   ]
  },
  {
   "cell_type": "markdown",
   "id": "db355c50",
   "metadata": {},
   "source": [
    "Link to Chatbot Session 3: https://chatgpt.com/share/670afed1-7ecc-8005-84a1-f486e4919320"
   ]
  },
  {
   "cell_type": "markdown",
   "id": "fdbaa5c1",
   "metadata": {},
   "source": [
    "5)"
   ]
  },
  {
   "cell_type": "code",
   "execution_count": 12,
   "id": "9dacb6b4",
   "metadata": {},
   "outputs": [
    {
     "data": {
      "text/plain": [
       "0.0009"
      ]
     },
     "execution_count": 12,
     "metadata": {},
     "output_type": "execute_result"
    }
   ],
   "source": [
    "import numpy as np\n",
    "\n",
    "# Step 1: Define Parameters\n",
    "n_couples = 124  # Total couples\n",
    "observed_right_tilts = 80  # Couples tilting right\n",
    "p_right = 0.5  # Null hypothesis probability for right tilt\n",
    "simulations = 10000  # Number of simulations\n",
    "\n",
    "# Step 2: Simulate Outcomes\n",
    "# Simulate 10,000 trials of 124 coin flips (couples)\n",
    "results = np.random.binomial(n_couples, p_right, simulations)\n",
    "\n",
    "# Step 3: Calculate Observed Proportion\n",
    "observed_proportion = observed_right_tilts / n_couples\n",
    "\n",
    "# Step 4: Compute the p-value\n",
    "p_value = np.sum(results / n_couples >= observed_proportion) / simulations\n",
    "\n",
    "# Display the p-value\n",
    "p_value"
   ]
  },
  {
   "cell_type": "markdown",
   "id": "41b42970",
   "metadata": {},
   "source": [
    "Based on the simulation and calculations for the p-value, the p-value is going to be under 0.01, indicating strong evidence against the null hypothesis."
   ]
  },
  {
   "cell_type": "markdown",
   "id": "b282146d",
   "metadata": {},
   "source": [
    "Summary of Chatbot Session 4: \"Here’s a summary of our session:\n",
    "\n",
    "Problem Statement: You wanted to analyze a study by Güntürkün (2003), which observed that 80 out of 124 couples (64.5%) tilted their heads to the right while kissing. The goal was to simulate a p-value using a \"50/50 coin-flipping\" model under the null hypothesis \n",
    "𝐻\n",
    "0\n",
    "H \n",
    "0\n",
    "​\n",
    "  that couples have no preference for left or right head tilting.\n",
    "\n",
    "Steps Taken:\n",
    "\n",
    "Null Hypothesis Definition: We assumed that the probability of tilting to the right is 0.5, indicating no preference.\n",
    "Observed Data: Out of 124 couples, 80 tilted to the right (64.5%).\n",
    "Simulation of Coin Flips: We simulated 10,000 trials where each trial represented 124 coin flips (couples) with a 50% chance of tilting right.\n",
    "p-value Calculation: We calculated the proportion of simulations that resulted in a right-tilt proportion greater than or equal to 64.5%, yielding a p-value of approximately 0.0012.\n",
    "Interpretation:\n",
    "\n",
    "The p-value of 0.0012 indicates very strong evidence against the null hypothesis \n",
    "𝐻\n",
    "0\n",
    "H \n",
    "0\n",
    "​\n",
    " , suggesting that couples do indeed have a significant tendency to tilt their heads to the right when kissing.\n",
    "Details Provided:\n",
    "\n",
    "A breakdown of each step in the simulation.\n",
    "Complete code used for the simulation.\n",
    "Explanation of how the results align with different evidence levels against the null hypothesis.\n",
    "Let me know if you need any further clarification or analysis!\""
   ]
  },
  {
   "cell_type": "markdown",
   "id": "c5df8436",
   "metadata": {},
   "source": [
    "Link to Chatbot Session 4: https://chatgpt.com/share/670b4dbc-39d4-8005-a8ab-69800813765c"
   ]
  },
  {
   "cell_type": "markdown",
   "id": "dada1a55",
   "metadata": {},
   "source": [
    "Postlecture HW"
   ]
  },
  {
   "cell_type": "markdown",
   "id": "514b37f3",
   "metadata": {},
   "source": [
    "6)"
   ]
  },
  {
   "cell_type": "markdown",
   "id": "81563c7f",
   "metadata": {},
   "source": [
    "A smaller p-value does not definitely prove that the null hypothesis is false, so it is not possible to definitely prove that Fido from the video is innocent or guilty using a p-value. P-values only measure the probability of observing the data assuming the null hypothesis is true, whether the observed data is likely or unlikely. It does not tell us if the null hypothesis is true or false. It helps determine if theres enough evidence for the null hypothesis is true or not but there is no definite answer, it doesn't matter how low or how high the p-value is. "
   ]
  },
  {
   "cell_type": "markdown",
   "id": "0d111f21",
   "metadata": {},
   "source": [
    "7)"
   ]
  },
  {
   "cell_type": "code",
   "execution_count": 8,
   "id": "b590108e",
   "metadata": {},
   "outputs": [
    {
     "ename": "NameError",
     "evalue": "name 'patient_data' is not defined",
     "output_type": "error",
     "traceback": [
      "\u001b[0;31m---------------------------------------------------------------------------\u001b[0m",
      "\u001b[0;31mNameError\u001b[0m                                 Traceback (most recent call last)",
      "Cell \u001b[0;32mIn[8], line 5\u001b[0m\n\u001b[1;32m      2\u001b[0m \u001b[38;5;28;01mimport\u001b[39;00m \u001b[38;5;21;01mpandas\u001b[39;00m \u001b[38;5;28;01mas\u001b[39;00m \u001b[38;5;21;01mpd\u001b[39;00m\n\u001b[1;32m      4\u001b[0m \u001b[38;5;66;03m# Original data setup: assume 'patient_data' is a DataFrame containing 'HealthScoreChange'\u001b[39;00m\n\u001b[0;32m----> 5\u001b[0m observed_positive_count \u001b[38;5;241m=\u001b[39m (\u001b[43mpatient_data\u001b[49m[\u001b[38;5;124m'\u001b[39m\u001b[38;5;124mHealthScoreChange\u001b[39m\u001b[38;5;124m'\u001b[39m] \u001b[38;5;241m>\u001b[39m \u001b[38;5;241m0\u001b[39m)\u001b[38;5;241m.\u001b[39msum()\n\u001b[1;32m      7\u001b[0m \u001b[38;5;66;03m# Number of permutations for simulation\u001b[39;00m\n\u001b[1;32m      8\u001b[0m num_permutations \u001b[38;5;241m=\u001b[39m \u001b[38;5;241m10000\u001b[39m\n",
      "\u001b[0;31mNameError\u001b[0m: name 'patient_data' is not defined"
     ]
    }
   ],
   "source": [
    "import numpy as np\n",
    "import pandas as pd\n",
    "\n",
    "# Original data setup: assume 'patient_data' is a DataFrame containing 'HealthScoreChange'\n",
    "observed_positive_count = (patient_data['HealthScoreChange'] > 0).sum()\n",
    "\n",
    "# Number of permutations for simulation\n",
    "num_permutations = 10000\n",
    "\n",
    "# Simulate random changes and calculate the number of positives for each permutation\n",
    "random_positive_counts = []\n",
    "for _ in range(num_permutations):\n",
    "    random_signs = np.random.choice([-1, 1], size=len(patient_data))\n",
    "    simulated_changes = random_signs * patient_data['HealthScoreChange'].abs()\n",
    "    random_positive_count = (simulated_changes > 0).sum()\n",
    "    random_positive_counts.append(random_positive_count)\n",
    "\n",
    "# Calculate the one-sided p-value (proportion of random counts greater than or equal to the observed count)\n",
    "p_value = np.mean(np.array(random_positive_counts) >= observed_positive_count)\n",
    "\n",
    "# Print the results\n",
    "print(f\"Observed number of positive changes: {observed_positive_count}\")\n",
    "print(f\"One-sided p-value: {p_value}\")"
   ]
  },
  {
   "cell_type": "markdown",
   "id": "0ed5b415",
   "metadata": {},
   "source": [
    "To change it into a one sided hypothesis test, the code was changed to calculate the number of positive changes, and calculate the count of positive values for each permutation. The new code calculates a one sided p-value and printed them along with the observed number of positive changes. A two-sided test checks if an effect differs from the null hypothesis in either direction, while a one-sided test checks if the effect is significantly greater or less than the null hypothesis in a specific direction. We can usually expect the p-value to be smaller in the one sided analysis in comparison to the two sided analysis, because a one-tailed test is more focused and less strict, leading to smaller p-values if the effect is in the predicted direction. "
   ]
  },
  {
   "cell_type": "markdown",
   "id": "0fbffd82",
   "metadata": {},
   "source": [
    "Summary of Chatbot Session 5: \"Sure! Here's a summary of our session:\n",
    "\n",
    "1. **P-Value Interpretation**:\n",
    "   - Discussed whether a smaller p-value can definitively prove that the null hypothesis is false. Emphasized that p-values indicate the probability of observing data under the null hypothesis but do not provide definitive proof.\n",
    "\n",
    "2. **Code Adjustment for Hypothesis Testing**:\n",
    "   - Provided modified Python code to compute a p-value for a one-sided (one-tailed) hypothesis test instead of a two-sided (two-tailed) test.\n",
    "   - Explained the changes made in the code, including how the observed statistic is calculated, how the simulation is performed, and how the one-sided p-value is calculated.\n",
    "\n",
    "3. **Hypothesis Test Interpretation**:\n",
    "   - Discussed how switching from a two-sided to a one-sided hypothesis test affects the interpretation of results, including the formulation of hypotheses, the calculation and significance of p-values, and the practical implications of using one-tailed versus two-tailed tests.\n",
    "\n",
    "4. **Expectations for P-Value Comparison**:\n",
    "   - Explained that we generally expect the p-value from a one-tailed test to be smaller than that from a two-tailed test when the observed effect is in the specified direction, due to the concentration of the significance level in one tail.\n",
    "\n",
    "If you have any more questions or need further clarification on any topic, feel free to ask!\""
   ]
  },
  {
   "cell_type": "markdown",
   "id": "02412356",
   "metadata": {},
   "source": [
    "Link to Chatbot Session 5: https://chatgpt.com/share/670eebbd-4820-8005-a974-7430855f4cd5"
   ]
  },
  {
   "cell_type": "markdown",
   "id": "87d06c83",
   "metadata": {},
   "source": [
    "8)"
   ]
  },
  {
   "cell_type": "markdown",
   "id": "199d3a97",
   "metadata": {},
   "source": [
    "This experiment is inspired by the original Fisher's Tea Experiment conducted by Ronald Fisher and Dr. Muriel Bristol, as we aim to investigate whether a random sample of STA130 students can distinguish between whether the milk or tea was poured first in a cup of tea. This study includes 80 STA130 students, where 49 were able to correctly state which was poured first. "
   ]
  },
  {
   "cell_type": "markdown",
   "id": "65b79cdf",
   "metadata": {},
   "source": [
    "While both the Fisher's original experiment and out STA130 experiment involves answering the same problem question, certain aspects do differ. Originally the experiment was only conducted on Dr. Bristol, where Dr. Bristol was given 8 cups of tea to identify. In these terms, our experiment has a much larger sample of 80 students."
   ]
  },
  {
   "cell_type": "markdown",
   "id": "f23b89a8",
   "metadata": {},
   "source": [
    "Null hypothesis: The amount of students that are able to guess the order in which milk and tea are poured is given by p-value = 0.5. We say this as we assume they are guessing with a 50% chance of being correct. "
   ]
  },
  {
   "cell_type": "markdown",
   "id": "9dea89cb",
   "metadata": {},
   "source": [
    "Alternative hypothesis: The amount of students that are able to guess the order in which milk and tea are poured is not p = 0.5. Some students may be able to tell the difference, therefore resulting in more than 50% of them getting the correct order."
   ]
  },
  {
   "cell_type": "markdown",
   "id": "13edb0e4",
   "metadata": {},
   "source": [
    "Sample Size (n): 80, Number of Students Correct (x): 49, Sample Proportion (p̂): x/n = 0.6125, Null Hypothesis (Po): 0.5, Standard Error (SE): sqrt(Po * (1 - Po) / n) = 0.0559, Test Statistic (Z): p̂-Po/SE = 2.01"
   ]
  },
  {
   "cell_type": "code",
   "execution_count": 16,
   "id": "7489c7e3",
   "metadata": {},
   "outputs": [
    {
     "name": "stdout",
     "output_type": "stream",
     "text": [
      "Sample proportion: 0.6125\n",
      "Z-test statistic: 2.0654\n",
      "P-value: 0.0194\n",
      "Reject the null hypothesis: There is evidence that the proportion is greater than 0.5.\n"
     ]
    }
   ],
   "source": [
    "import statsmodels.api as sm\n",
    "\n",
    "# Data\n",
    "x = 49  # number of students who correctly identified the pouring order\n",
    "n = 80  # total number of students sampled\n",
    "p0 = 0.5  # null hypothesis proportion\n",
    "\n",
    "# Sample proportion\n",
    "p_hat = x / n\n",
    "\n",
    "# Perform one-sample z-test for proportion\n",
    "# The alternative hypothesis is 'larger', meaning we are testing if the true proportion is greater than 0.5\n",
    "test_stat, p_value = sm.stats.proportions_ztest(count=x, nobs=n, value=p0, alternative='larger')\n",
    "\n",
    "# Print results\n",
    "print(f\"Sample proportion: {p_hat:.4f}\")\n",
    "print(f\"Z-test statistic: {test_stat:.4f}\")\n",
    "print(f\"P-value: {p_value:.4f}\")\n",
    "\n",
    "# Conclusion based on significance level alpha = 0.05\n",
    "alpha = 0.05\n",
    "if p_value < alpha:\n",
    "    print(\"Reject the null hypothesis: There is evidence that the proportion is greater than 0.5.\")\n",
    "else:\n",
    "    print(\"Fail to reject the null hypothesis: There is no evidence that the proportion is greater than 0.5.\")\n"
   ]
  },
  {
   "cell_type": "markdown",
   "id": "e7f338ff",
   "metadata": {},
   "source": [
    "Upon further analysis, we get the z-value and p-value of the data. The resulting p-value is small, with a number less than 0.05. This outcome leads us to reject the null hypothesis, as it indicates that the observed results are unlikely under the null hypothesis. The students can tell the order tea and milk is poured in a cup of tea, and it is not just guessing. "
   ]
  },
  {
   "cell_type": "markdown",
   "id": "1e045e01",
   "metadata": {},
   "source": [
    "Summary of Chatbot Session 6: \"Here’s a summary of our session:\n",
    "\n",
    "1. **Experiment Description**:\n",
    "   - You presented an experiment involving a random sample of 80 STA130 students, where each student tasted a cup of tea and had to determine whether the milk or tea was poured first. \n",
    "   - Of the 80 students, 49 correctly identified the pouring order.\n",
    "\n",
    "2. **Statistical Analysis**:\n",
    "   - We conducted a hypothesis test to evaluate whether the proportion of students who could correctly identify the pouring order was greater than 0.5 (suggesting performance better than random guessing).\n",
    "   - The null hypothesis (H₀) was that the proportion \\( p = 0.5 \\), while the alternative hypothesis (H₁) was \\( p > 0.5 \\).\n",
    "   - The sample proportion was calculated as 0.6125.\n",
    "   - We performed a one-sample \\( z \\)-test for proportions, resulting in a test statistic of approximately 2.01 and a p-value of about 0.022.\n",
    "   - Given a significance level of 0.05, the p-value was less than 0.05, leading to the rejection of the null hypothesis, indicating evidence that students performed better than random guessing.\n",
    "\n",
    "3. **Methodology Code**:\n",
    "   - A Python code snippet was provided to conduct the statistical analysis using the `statsmodels` library. The code performed the hypothesis test and printed the test statistic, p-value, and a conclusion based on a specified significance level.\n",
    "\n",
    "This session guided you through a statistical analysis workflow for evaluating the results of your experiment.\""
   ]
  },
  {
   "cell_type": "markdown",
   "id": "43814105",
   "metadata": {},
   "source": [
    "Link to Chatbot Session 6: https://chatgpt.com/share/670f070d-e328-8005-8260-ae1f07354805"
   ]
  },
  {
   "cell_type": "markdown",
   "id": "664e63ba",
   "metadata": {},
   "source": [
    "9)"
   ]
  },
  {
   "cell_type": "markdown",
   "id": "1732668d",
   "metadata": {},
   "source": [
    "Somewhat"
   ]
  }
 ],
 "metadata": {
  "kernelspec": {
   "display_name": "Python 3 (ipykernel)",
   "language": "python",
   "name": "python3"
  },
  "language_info": {
   "codemirror_mode": {
    "name": "ipython",
    "version": 3
   },
   "file_extension": ".py",
   "mimetype": "text/x-python",
   "name": "python",
   "nbconvert_exporter": "python",
   "pygments_lexer": "ipython3",
   "version": "3.11.6"
  }
 },
 "nbformat": 4,
 "nbformat_minor": 5
}
