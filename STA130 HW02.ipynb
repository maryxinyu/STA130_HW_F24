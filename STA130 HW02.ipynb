{
 "cells": [
  {
   "cell_type": "markdown",
   "id": "240e149c",
   "metadata": {},
   "source": [
    "Prelecture HW"
   ]
  },
  {
   "cell_type": "markdown",
   "id": "c0b74f24",
   "metadata": {},
   "source": [
    "1 & 2 & 3)\n",
    "After understanding the code and getting ChatGPT to make a more streamlined version of the for loop simulation code, I think that while ChatGPT's code is better in terms of readability, the original was better for explainability. ChatGPT's code looks more simplistic and easier to read because overall I feel like there are less lines of code. However, the original code had better explanations with all of the comments. I feel like the comments helped me understand the code but with all of the lines of words cluttered together it made it difficult to read the actual code. "
   ]
  },
  {
   "cell_type": "code",
   "execution_count": 9,
   "id": "c4a2429b",
   "metadata": {},
   "outputs": [
    {
     "data": {
      "text/plain": [
       "0.66526"
      ]
     },
     "execution_count": 9,
     "metadata": {},
     "output_type": "execute_result"
    }
   ],
   "source": [
    "#ChatGPT Improved Streamlined Version of Code\n",
    "\n",
    "import numpy as np\n",
    "\n",
    "all_door_options = (1, 2, 3)\n",
    "initial_choice = 1  # Contestant always picks door 1\n",
    "i_won = 0\n",
    "reps = 100000\n",
    "\n",
    "for _ in range(reps):\n",
    "    secret_winning_door = np.random.choice(all_door_options)\n",
    "    \n",
    "    # Simulate the host revealing a goat door\n",
    "    remaining_doors = [door for door in all_door_options if door != initial_choice and door != secret_winning_door]\n",
    "    goat_door_reveal = np.random.choice(remaining_doors)\n",
    "    \n",
    "    # Contestant switches to the remaining door\n",
    "    switched_door = [door for door in all_door_options if door != initial_choice and door != goat_door_reveal][0]\n",
    "    \n",
    "    # Check if the switched door is the winning door\n",
    "    if switched_door == secret_winning_door:\n",
    "        i_won += 1\n",
    "\n",
    "# Output the win ratio\n",
    "win_ratio = i_won / reps\n",
    "win_ratio"
   ]
  },
  {
   "cell_type": "markdown",
   "id": "f64f23cf",
   "metadata": {},
   "source": [
    "Summary to Chatbot Session 1: \"Here’s a summary of our session:\n",
    "\n",
    "Original Code Explanation:\n",
    "\n",
    "You provided a Python simulation of the Monty Hall problem, and I explained its logic step-by-step, highlighting key concepts like the initial choice, revealing a goat door, and switching doors to increase the odds of winning.\n",
    "Streamlined Code Suggestion:\n",
    "\n",
    "I proposed a streamlined version of the simulation with clearer logic using list comprehensions and removing unnecessary steps (like try-except).\n",
    "Error Fix:\n",
    "\n",
    "There was a typo in the suggested code (secret_winning_ddoor), which I corrected.\n",
    "Output Explanation:\n",
    "\n",
    "You asked what an output of 0.6 means, and I explained that it represents the contestant winning about 60% of the time when they switch doors, which aligns with the theoretical probability (2/3) in the Monty Hall problem.\n",
    "The main takeaway from this session is that in the Monty Hall problem, switching doors gives you a higher chance of winning (about 2/3 or 66%), and the Python simulation confirms this through repeated trials.\""
   ]
  },
  {
   "cell_type": "markdown",
   "id": "4b0e8994",
   "metadata": {},
   "source": [
    "Link to Chatbot Session 1: https://chatgpt.com/share/66e880e8-2874-8008-a76b-4a1a5d758fcb"
   ]
  },
  {
   "cell_type": "markdown",
   "id": "3886d1dd",
   "metadata": {},
   "source": [
    "Postlecture HW"
   ]
  },
  {
   "cell_type": "markdown",
   "id": "f177c4c7",
   "metadata": {},
   "source": [
    "4 & 5.1 & 5.2)"
   ]
  },
  {
   "cell_type": "markdown",
   "id": "62b5d3f8",
   "metadata": {},
   "source": [
    "Summary to Chatbot Session 2: \"Here's a summary of our chatbot session:\n",
    "\n",
    "Markovian Chatbot Introduction:\n",
    "\n",
    "You provided a code for a basic Markovian Chatbot that tracks word usage and predicts the next word based on the previous one (a unigram model).\n",
    "I explained how the code builds a Markov chain by counting word occurrences and predicting the next word.\n",
    "First Extension: Bigram-Based Markov Chain:\n",
    "\n",
    "You shared the first extension, which transitions to a bigram-based model. It uses pairs of consecutive words (bigrams) to predict the next word.\n",
    "I explained how this bigram model improves the chatbot by using more context (two words instead of one) to generate more natural text.\n",
    "Second Extension: Character-Specific Bigram Model:\n",
    "\n",
    "You provided a second extension, where the Markov chain is made character-specific. This version builds separate bigram models for each character in the dataset, allowing the chatbot to generate dialogue that mimics each character's unique speech patterns.\n",
    "I broke down how the model tracks and predicts words for each character individually, using nested dictionaries to store bigrams and next words.\n",
    "Key Differences Between Extensions:\n",
    "\n",
    "I highlighted the key difference between the first and second extensions:\n",
    "The first extension is a general bigram model for all dialogue.\n",
    "The second extension builds character-specific bigram models, tracking separate word patterns for each character.\n",
    "Let me know if you'd like to expand or clarify any part!\""
   ]
  },
  {
   "cell_type": "markdown",
   "id": "f504c04e",
   "metadata": {},
   "source": [
    "Link to Chatbot Session 2: https://chatgpt.com/share/66e9b39e-7c04-8008-a3c6-772372318df7"
   ]
  },
  {
   "cell_type": "markdown",
   "id": "5a39bfa2",
   "metadata": {},
   "source": [
    "5.3) "
   ]
  },
  {
   "cell_type": "markdown",
   "id": "8f87c3a7",
   "metadata": {},
   "source": [
    "Summary of Chatbot Session 3: \"Here's a summary of our chatbot session:\n",
    "\n",
    "Markov Chain Chatbot Code:\n",
    "\n",
    "You shared a code implementing a Markov chain model to generate text. The first version tracks how often each word appears and what words follow each one.\n",
    "I explained how the code works and provided an optimized version using defaultdict to make it more concise.\n",
    "Markov Chain Extension Code:\n",
    "\n",
    "You then shared a more complex version of the chatbot code, which integrates a dataset and tracks word sequences (bigrams and trigrams) specific to different characters.\n",
    "I broke down how the code uses Counter to identify characters and then tracks word sequences for each character using a nested dictionary structure.\n",
    "In both cases, we discussed how the code works to generate text based on the words and word sequences in a dataset, focusing on improving efficiency and adding character-specific functionality.\""
   ]
  },
  {
   "cell_type": "markdown",
   "id": "99d27306",
   "metadata": {},
   "source": [
    "Link to Chatbot Session 3: https://chatgpt.com/share/66e9b76b-9d08-8008-8c90-78865f65e8ff"
   ]
  },
  {
   "cell_type": "markdown",
   "id": "77b76504",
   "metadata": {},
   "source": [
    "6.1) I think that the Chatbots work at a pretty fast speed to solve my questions. It was faster than searching up the answers on Google"
   ]
  },
  {
   "cell_type": "markdown",
   "id": "04582230",
   "metadata": {},
   "source": [
    "6.2) Overall ChatGPT was a pretty reliable source for learning, however, sometimes the answers get too long because there is just so much data within the code that can be analyzed and explained. Too much information hurts my brain."
   ]
  },
  {
   "cell_type": "markdown",
   "id": "813eb6b4",
   "metadata": {},
   "source": [
    "6.3) ChatGPT has helped explain the codes to me pretty well, but I do wish its explanations could be more simplified."
   ]
  },
  {
   "cell_type": "markdown",
   "id": "f2b04492",
   "metadata": {},
   "source": [
    "7）My perception of using Chatbots hasn't really evolved over the last two weeks. I think the Chatbots are a useful source to study the codes but it definitely shouldn't be the only source you rely on to learn code. Sometimes the answers it provides may not be the best, and it doesn't give the correct answers at times so we should also use other study sources to reinforce the information. When it comes to speed, Chatbots are definitely unmatched though."
   ]
  },
  {
   "cell_type": "markdown",
   "id": "01935b68",
   "metadata": {},
   "source": [
    "8.1, 8.2)"
   ]
  },
  {
   "cell_type": "markdown",
   "id": "e31125db",
   "metadata": {},
   "source": [
    "Summary of Chatbot Session 4: \"In this session, we discussed key skills relevant to modern careers, particularly in the data science industry, focusing on learning and adaptability, communication, coding, and statistics and data analysis. These skills were highlighted as crucial for roles like data scientist and statistician, with coding and data analysis being fundamental to both professions.\n",
    "\n",
    "You asked if it's possible to be a statistician or data scientist without coding or data analysis, and I explained that while these are core to both fields, certain tools or specialized roles might reduce the need for deep coding, but these skills are still highly relevant.\n",
    "\n",
    "Lastly, we explored a variety of careers related to data science, including data analyst, business analyst, machine learning engineer, and actuary, outlining the skills needed for each. This overview showed that while coding and data analysis are often important, there are roles that may focus more on business acumen, communication, and specific industry knowledge.\""
   ]
  },
  {
   "cell_type": "markdown",
   "id": "4bd730d7",
   "metadata": {},
   "source": [
    "Link to Chatbot Session 4: https://chatgpt.com/share/66eb0a3d-1ae8-8008-b12f-ae6c14597ba5"
   ]
  },
  {
   "cell_type": "markdown",
   "id": "f4c7fb4f",
   "metadata": {},
   "source": [
    "8.4) I'm still not too sure what career I want to pursue in the future so this question is a bit difficult for me to answer. ChatGPT provided me with some potential career paths, and most of them suggest that communication, mathematics, programming, and data analysis are important skills to have. I am still reflecting on whether any of these are potential careers that I can see myself doing in the future. I appreciate the help from ChatGPT though."
   ]
  },
  {
   "cell_type": "markdown",
   "id": "aa03f34f",
   "metadata": {},
   "source": [
    "8.5) I am aware that ChatGPT is being constantly upgraded, and that it currently only holds information up to September 2023. Though it is a year behind, I still think that it holds a good amount of information. Personally, I would not completely trust ChatGPT to provide me with all the information about society, just because I don't really trust AI knowing that it sometimes provides the wrong information. I think it's still better to experience things first-hand instead of relying on a chatbot, as things could be drastically different in real life. "
   ]
  },
  {
   "cell_type": "markdown",
   "id": "cc13db5c",
   "metadata": {},
   "source": [
    "9) Somewhat->Mostly "
   ]
  }
 ],
 "metadata": {
  "kernelspec": {
   "display_name": "Python 3 (ipykernel)",
   "language": "python",
   "name": "python3"
  },
  "language_info": {
   "codemirror_mode": {
    "name": "ipython",
    "version": 3
   },
   "file_extension": ".py",
   "mimetype": "text/x-python",
   "name": "python",
   "nbconvert_exporter": "python",
   "pygments_lexer": "ipython3",
   "version": "3.11.6"
  }
 },
 "nbformat": 4,
 "nbformat_minor": 5
}
