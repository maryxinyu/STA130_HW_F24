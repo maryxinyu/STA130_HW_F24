{
 "cells": [
  {
   "cell_type": "markdown",
   "id": "d3f3fbe0",
   "metadata": {},
   "source": [
    "Prelecture HW"
   ]
  },
  {
   "cell_type": "markdown",
   "id": "73d2278f",
   "metadata": {},
   "source": [
    "1)"
   ]
  },
  {
   "cell_type": "markdown",
   "id": "0a108346",
   "metadata": {},
   "source": [
    "Standard deviation measures the distribution of individual data points around the average of a population. It tells us how much the data is spread from the average. Standard error of the mean on the other hand shows the variability of the average depending on how many samples of data. The more data, the more accurate the estimate of the average is, therefore there is a smaller standard error of the mean."
   ]
  },
  {
   "cell_type": "markdown",
   "id": "1f5cca73",
   "metadata": {},
   "source": [
    "Summary of Chatbot Session 1: \"Here's a summary of this chatbot session:\n",
    "\n",
    "Standard Deviation (SD):\n",
    "\n",
    "SD measures how spread out individual data points are from the average (mean) in a data set.\n",
    "A small SD means the data points are close to the mean, while a large SD means the data points are spread out.\n",
    "Standard Error of the Mean (SEM):\n",
    "\n",
    "SEM measures how precisely a sample mean estimates the true population mean.\n",
    "A small SEM indicates the sample mean is a good estimate of the population mean, while a large SEM suggests more uncertainty.\n",
    "SEM gets smaller as the sample size increases, because larger samples give more reliable estimates of the mean.\n",
    "Simpler Explanation of Standard Deviation:\n",
    "\n",
    "SD tells you if the numbers are close together or spread out.\n",
    "It’s a way to see if the data points are similar to the average or vary a lot.\n",
    "Simpler Explanation of SEM:\n",
    "\n",
    "SEM tells you how precise the average (mean) is, based on your sample.\n",
    "If SEM is small, the sample mean is likely close to the true population mean.\n",
    "The more data you collect, the smaller the SEM gets, because you’re getting a better estimate.\n",
    "Let me know if you'd like further details on any of these points!\""
   ]
  },
  {
   "cell_type": "markdown",
   "id": "8f6ded36",
   "metadata": {},
   "source": [
    "Link to Chatbot Session 1: https://chatgpt.com/share/66fb3943-d094-8008-8f63-e301888b3a07"
   ]
  },
  {
   "cell_type": "markdown",
   "id": "6fb2fc2d",
   "metadata": {},
   "source": [
    "2)"
   ]
  },
  {
   "cell_type": "markdown",
   "id": "58212611",
   "metadata": {},
   "source": [
    "First you have to calculate the standard error of the mean, using its formula SEM = s/√n, where 's' is the sample standard deviation and 'n' is the sample size. Then you have to find the critical value z-score for a 95% confidence interval, which would be 1.96. Using the formula for confidence interval, CI= sample mean +- (z-value * SEM), we would get (sample mean −(1.96 * SEM), sample mean +(1.96×SEM)).\n",
    "Using bootstrapping, it is the same thing but you create a confidence interval that covers 95% of the bootstrapped sample means, and the range is where the expected true mean would fall most of the time. "
   ]
  },
  {
   "cell_type": "markdown",
   "id": "6498908d",
   "metadata": {},
   "source": [
    "Summary of Chatbot Session 2: \"In this session, we discussed how to use the standard error of the mean (SEM) to create a 95% confidence interval, focusing on making the explanation simpler and clearer. Here's a summary of key points:\n",
    "\n",
    "Standard Error of the Mean (SEM):\n",
    "\n",
    "SEM measures how much sample means vary from the true population mean.\n",
    "Formula:\n",
    "SEM=\n",
    "standard deviation/\n",
    "√sample size\n",
    "\n",
    "Using SEM to create a 95% Confidence Interval:\n",
    "\n",
    "For a 95% confidence interval, you find the mean of your sample, then go 1.96 SEMs up and 1.96 SEMs down to create a range where the true mean likely falls 95% of the time.\n",
    "Confidence Intervals for Bootstrapped Means:\n",
    "\n",
    "In bootstrapping, you create many random samples and calculate the SEM for those sample means.\n",
    "Using the same approach, you can go 1.96 SEMs above and below the bootstrapped mean to cover 95% of the bootstrapped means.\n",
    "This method gives you a reliable estimate of where the true mean is expected to lie, based on bootstrapped sample data.\""
   ]
  },
  {
   "cell_type": "markdown",
   "id": "6b7cab6c",
   "metadata": {},
   "source": [
    "Link to Chatbot Session 2: https://chatgpt.com/share/66fb575b-6c08-8008-995f-23476f469a63"
   ]
  },
  {
   "cell_type": "markdown",
   "id": "2eb52d85",
   "metadata": {},
   "source": [
    "3)"
   ]
  },
  {
   "cell_type": "markdown",
   "id": "0fa77e96",
   "metadata": {},
   "source": [
    "With the bootstrap samples that we have, we need to calculate the mean for each sample. With the average of each sample we sort them from smallest to largest. With the averages sorted out, we can then find the 95% confidence interval, and to do this we can cut off the top and bottom by 2.5% because the total amount we cut off is 5% for a 95% confidence interval. Now find the mean of the 2.5% point and the mean at the 97.5% point to get the boundaries of the confidence interval-- the interval from the 2.5 percentile and 97.5 percentile of these bootstrapped means represents the 95% bootstrapped confidence interval that we are looking for. The function np.quantile() can be used to help find values at specific percentiles, in this case, the 2.5 and 97.5 percentiles."
   ]
  },
  {
   "cell_type": "markdown",
   "id": "14f46b41",
   "metadata": {},
   "source": [
    "Summary of Chatbot Session 3: \"Here's a summary of our chatbot session:\n",
    "\n",
    "Creating a 95% Bootstrapped Confidence Interval (without using standard deviation):\n",
    "\n",
    "We discussed how to generate a 95% confidence interval using bootstrapping. This involves:\n",
    "Taking multiple bootstrap samples from the original dataset.\n",
    "Calculating the mean for each sample.\n",
    "Sorting the bootstrapped means.\n",
    "Using the 2.5th and 97.5th percentiles as the bounds of the confidence interval, which gives you the middle 95% of the distribution.\n",
    "Why 2.5%?:\n",
    "\n",
    "We explained why the 2.5th and 97.5th percentiles are used for a 95% confidence interval. Since 95% of the distribution lies in the middle, the remaining 5% is equally split between the lower and upper ends (2.5% on each side).\n",
    "Using np.quantile():\n",
    "\n",
    "We discussed how and why to use the np.quantile() function from NumPy to find specific percentiles (like the 2.5th and 97.5th percentiles) from a collection of bootstrapped sample means. This allows you to calculate the confidence interval directly from the data, without making assumptions about the distribution.\n",
    "This session focused on understanding the logic of bootstrapped confidence intervals and how to implement them using Python.\""
   ]
  },
  {
   "cell_type": "markdown",
   "id": "c6161de4",
   "metadata": {},
   "source": [
    "Link to Chatbot Session 3: https://chatgpt.com/share/66fd86ae-0e14-8005-b50d-fba74a1bba0a"
   ]
  },
  {
   "cell_type": "markdown",
   "id": "3d753146",
   "metadata": {},
   "source": [
    "4)"
   ]
  },
  {
   "cell_type": "markdown",
   "id": "1369d70d",
   "metadata": {},
   "source": [
    "After comparing the codes and how it changes to get the median instead of mean, we can see that the bootstrap_means was renamed to bootstrap_statistics to represent the median and store the median calculated from each bootstrap sample. Similarly to the mean, the lower and upper bounds of the confidence interval are calculated for bootstrap_statistics."
   ]
  },
  {
   "cell_type": "code",
   "execution_count": 3,
   "id": "c67833fc",
   "metadata": {},
   "outputs": [
    {
     "name": "stdout",
     "output_type": "stream",
     "text": [
      "95% Bootstrap Confidence Interval: [12.9 15.8]\n"
     ]
    }
   ],
   "source": [
    "import numpy as np\n",
    "\n",
    "# Function to compute bootstrap confidence interval\n",
    "def bootstrap_confidence_interval(data, num_bootstrap_samples=1000, confidence_level=0.95):\n",
    "    np.random.seed(0)  # Set seed for reproducibility\n",
    "    bootstrap_means = []\n",
    "\n",
    "    # Generate bootstrap samples and calculate their means\n",
    "    for _ in range(num_bootstrap_samples):\n",
    "        bootstrap_sample = np.random.choice(data, size=len(data), replace=True)\n",
    "        bootstrap_means.append(np.mean(bootstrap_sample))\n",
    "        \n",
    "    # Instead of the mean, generate bootstrap samples and calculate the statistic to get the median\n",
    "    #for _ in range(num_bootstrap_samples):\n",
    "        #bootstrap_sample = np.random.choice(data, size=len(data), replace=True)\n",
    "        #bootstrap_statistics.append(statistic(bootstrap_sample))\n",
    "\n",
    "\n",
    "    # Calculate the lower and upper bounds of the confidence interval\n",
    "    lower_percentile = (1 - confidence_level) / 2\n",
    "    upper_percentile = 1 - lower_percentile\n",
    "    confidence_interval = np.percentile(bootstrap_means, [100 * lower_percentile, 100 * upper_percentile])\n",
    "    \n",
    "    # To get the median, calculate the lower and upper bounds of the confidence interval as well\n",
    "    #lower_percentile = (1 - confidence_level) / 2\n",
    "    #upper_percentile = 1 - lower_percentile\n",
    "    #confidence_interval = np.percentile(bootstrap_statistics, [100 * lower_percentile, 100 * upper_percentile])\n",
    "\n",
    "    return confidence_interval\n",
    "\n",
    "# Example sample data\n",
    "sample_data = [12, 15, 14, 10, 13, 18, 16, 15, 17, 14]\n",
    "\n",
    "# Calculate 95% bootstrap confidence interval\n",
    "ci = bootstrap_confidence_interval(sample_data)\n",
    "print(f\"95% Bootstrap Confidence Interval: {ci}\")\n",
    "\n",
    "# Calculate 95% bootstrap confidence interval for the median\n",
    "#ci_median = bootstrap_confidence_interval(sample_data, statistic=np.median)\n",
    "#print(f\"95% Bootstrap Confidence Interval for the Median: {ci_median}\")\n"
   ]
  },
  {
   "cell_type": "code",
   "execution_count": 4,
   "id": "ec6831e9",
   "metadata": {},
   "outputs": [
    {
     "name": "stdout",
     "output_type": "stream",
     "text": [
      "95% Bootstrap Confidence Interval for the Median: [13. 16.]\n"
     ]
    }
   ],
   "source": [
    "import numpy as np\n",
    "\n",
    "# Function to compute bootstrap confidence interval for any statistic\n",
    "def bootstrap_confidence_interval(data, num_bootstrap_samples=1000, confidence_level=0.95, statistic=np.median):\n",
    "    np.random.seed(0)  # Set seed for reproducibility\n",
    "    bootstrap_statistics = []\n",
    "\n",
    "    # Generate bootstrap samples and calculate the statistic (median in this case)\n",
    "    for _ in range(num_bootstrap_samples):\n",
    "        bootstrap_sample = np.random.choice(data, size=len(data), replace=True)\n",
    "        bootstrap_statistics.append(statistic(bootstrap_sample))\n",
    "\n",
    "    # Calculate the lower and upper bounds of the confidence interval\n",
    "    lower_percentile = (1 - confidence_level) / 2\n",
    "    upper_percentile = 1 - lower_percentile\n",
    "    confidence_interval = np.percentile(bootstrap_statistics, [100 * lower_percentile, 100 * upper_percentile])\n",
    "\n",
    "    return confidence_interval\n",
    "\n",
    "# Example sample data\n",
    "sample_data = [12, 15, 14, 10, 13, 18, 16, 15, 17, 14]\n",
    "\n",
    "# Calculate 95% bootstrap confidence interval for the median\n",
    "ci_median = bootstrap_confidence_interval(sample_data, statistic=np.median)\n",
    "print(f\"95% Bootstrap Confidence Interval for the Median: {ci_median}\")\n"
   ]
  },
  {
   "cell_type": "markdown",
   "id": "60a99eb3",
   "metadata": {},
   "source": [
    "Summary of Chatbot Session 4: \"In this session, we focused on creating Python code to compute bootstrap confidence intervals for population parameters.\n",
    "\n",
    "First, I provided a Python function that calculates a 95% bootstrap confidence interval for the population mean based on a sample.\n",
    "You then requested a version for a different population parameter, like the population median. I modified the code to allow any statistic (e.g., median) to be passed as a parameter.\n",
    "We discussed how the change was minimal, mainly generalizing the code to work with different statistics (like np.median or np.mean), and ensuring flexibility for other possible parameters.\n",
    "Overall, the session was about making the bootstrap function more adaptable while retaining the same core logic.\""
   ]
  },
  {
   "cell_type": "markdown",
   "id": "a979cee0",
   "metadata": {},
   "source": [
    "Link to Chatbot Session 4: https://chatgpt.com/share/66fd8fee-deac-8005-b98b-8bd14a75c760"
   ]
  },
  {
   "cell_type": "markdown",
   "id": "ea9483ae",
   "metadata": {},
   "source": [
    "Postlecture HW"
   ]
  },
  {
   "cell_type": "markdown",
   "id": "4fd49084",
   "metadata": {},
   "source": [
    "5)"
   ]
  },
  {
   "cell_type": "markdown",
   "id": "a46fb2d0",
   "metadata": {},
   "source": [
    "The population parameter is an unknown value that describes the characteristic of an entire population. The sample statistic is a value calculated from a sample of the population. The sample statistic is used to estimate the population parameter. The confidence interval is what tells us the range of values the population parameter might be, based on the sample statistic. This is not the true population parameter, but just an estimate. Using sample statistic to estimate the population parameter, the confidence interval helps us show how accurate the estimation is. This tells us if our conclusion is valid and if we can trust the estimate. "
   ]
  },
  {
   "cell_type": "markdown",
   "id": "58b317e6",
   "metadata": {},
   "source": [
    "Summary of Chatbot Session 5: \"In this session, we discussed the distinction between population parameters and sample statistics, focusing on how this difference relates to confidence intervals. I explained that:\n",
    "\n",
    "Population parameters represent the true values for an entire group, while sample statistics are estimates from smaller samples.\n",
    "Confidence intervals provide a range of values where the population parameter likely falls, helping account for the uncertainty in using a sample statistic.\n",
    "Understanding this distinction is important for making accurate decisions, handling uncertainty, trusting estimates, and drawing valid conclusions.\n",
    "Finally, I provided a simplified version and emphasized why this concept matters for data analysis and inference.\""
   ]
  },
  {
   "cell_type": "markdown",
   "id": "47098237",
   "metadata": {},
   "source": [
    "Link to Chatbot Session 5: https://chatgpt.com/share/66fe9a2f-e75c-8005-ae07-046863444c2d"
   ]
  },
  {
   "cell_type": "markdown",
   "id": "32e1fe95",
   "metadata": {},
   "source": [
    "6.1)"
   ]
  },
  {
   "cell_type": "markdown",
   "id": "0b677fae",
   "metadata": {
    "slideshow": {
     "slide_type": "slide"
    }
   },
   "source": [
    "In the process of bootstrapping, you start with a dataset and resample it by randomly selecting data points with replacement. This mean you can pick the data more than once. The process is repeated multiple times to make multiple bootstrap samples. "
   ]
  },
  {
   "cell_type": "markdown",
   "id": "5f59912a",
   "metadata": {},
   "source": [
    "6.2)"
   ]
  },
  {
   "cell_type": "markdown",
   "id": "3434a23f",
   "metadata": {},
   "source": [
    "When unsure of the real mean in a bigger group just based off of a small sample, bootstrapping helps with understanding the possible variation. Bootstrapping estimates the accuracy and variability of a statistic. "
   ]
  },
  {
   "cell_type": "markdown",
   "id": "9819a66d",
   "metadata": {},
   "source": [
    "6.3)"
   ]
  },
  {
   "cell_type": "markdown",
   "id": "0cf90a19",
   "metadata": {},
   "source": [
    "If i have a sample to start off with, I can first use bootstrapping to resample the data and create many bootstrap samples. I calculate the statistics for the bootstrap samples, like the mean. With that I can compare the distribution of the mean of the bootstrap samples to my hypothesized guess of the average. If my hypothesis falls in the middle of the bootstrap distribution then I can assume that my hypothesis is plausible. "
   ]
  },
  {
   "cell_type": "markdown",
   "id": "487075e6",
   "metadata": {},
   "source": [
    "7)"
   ]
  },
  {
   "cell_type": "markdown",
   "id": "3a3d93fe",
   "metadata": {},
   "source": [
    "Null hypothesis is the hypothesis that there is no effect or difference. If the confidence interval overlaps zero it indicates that zero is a plausible value for the true mean. Just know that the sample mean statistic is also just another estimate of the true population mean, so theres also uncertainty. Even when the observed sample mean statistic itself is not zero, but the confidence interval includes zero, the true effect could still be zero. There's not enough evidence. "
   ]
  },
  {
   "cell_type": "markdown",
   "id": "50c4c632",
   "metadata": {},
   "source": [
    "Summary of Chatbot Session 6: \"Sure! Here's a summary of our conversation:\n",
    "\n",
    "Bootstrapping Process: We discussed the steps of bootstrapping, a method for estimating the distribution of a sample statistic by repeatedly resampling with replacement from the original data. It involves generating many bootstrap samples, calculating the statistic for each, and using the resulting distribution to estimate confidence intervals or standard errors.\n",
    "\n",
    "Bootstrapping to Assess Hypotheses: You asked how to use bootstrapping to assess whether a hypothesized population mean is plausible. The process involves comparing the hypothesized value (e.g., no effect) to the distribution of sample means generated from bootstrapping. If the hypothesized value falls within the range of plausible means, the hypothesis may be plausible.\n",
    "\n",
    "Hypothesis Testing and Confidence Intervals: We explored why a confidence interval overlapping zero leads to \"failing to reject the null hypothesis\" (the hypothesis of no effect), even if the observed sample mean isn’t zero. The key reason is that the confidence interval reflects uncertainty in the sample data. If zero is within this interval, it's still possible the true effect is zero, so there's not enough evidence to reject the null hypothesis, despite the sample mean showing a small effect.\n",
    "\n",
    "Let me know if you'd like to dive deeper into any part!\""
   ]
  },
  {
   "cell_type": "markdown",
   "id": "8e53da1c",
   "metadata": {},
   "source": [
    "Link to Chatbot Session 6: https://chatgpt.com/share/66fed73b-3860-8005-a288-dc3709f17900"
   ]
  },
  {
   "cell_type": "markdown",
   "id": "8e3392ad",
   "metadata": {},
   "source": [
    "8)"
   ]
  },
  {
   "cell_type": "code",
   "execution_count": 8,
   "id": "a7bc4ac1",
   "metadata": {},
   "outputs": [
    {
     "name": "stdout",
     "output_type": "stream",
     "text": [
      "Mean of Final Health Scores (Bootstrap): 84.32\n",
      "95% Confidence Interval: (83.00, 85.40)\n"
     ]
    },
    {
     "data": {
      "image/png": "[encoded data removed]",
      "text/plain": [
       "<Figure size 640x480 with 1 Axes>"
      ]
     },
     "metadata": {},
     "output_type": "display_data"
    },
    {
     "name": "stdout",
     "output_type": "stream",
     "text": [
      "            Age  InitialHealthScore  FinalHealthScore\n",
      "count  10.00000           10.000000         10.000000\n",
      "mean   38.40000           81.000000         84.300000\n",
      "std     8.30261            2.828427          2.110819\n",
      "min    26.00000           76.000000         80.000000\n",
      "25%    33.25000           79.250000         83.250000\n",
      "50%    38.00000           81.000000         85.000000\n",
      "75%    44.00000           83.000000         86.000000\n",
      "max    52.00000           85.000000         86.000000\n"
     ]
    }
   ],
   "source": [
    "import pandas as pd\n",
    "import numpy as np\n",
    "import matplotlib.pyplot as plt\n",
    "\n",
    "# Load the data\n",
    "data = \"\"\"PatientID,Age,Gender,InitialHealthScore,FinalHealthScore\n",
    "1,45,M,84,86\n",
    "2,34,F,78,86\n",
    "3,29,M,83,80\n",
    "4,52,F,81,86\n",
    "5,37,M,81,84\n",
    "6,41,F,80,86\n",
    "7,33,M,79,86\n",
    "8,48,F,85,82\n",
    "9,26,M,76,83\n",
    "10,39,F,83,84\"\"\"\n",
    "\n",
    "from io import StringIO\n",
    "df = pd.read_csv(StringIO(data))\n",
    "\n",
    "np.random.seed(42)\n",
    "\n",
    "# Function to perform bootstrapping\n",
    "def bootstrap_means(data, n_iterations):\n",
    "    means = []\n",
    "    for _ in range(n_iterations):\n",
    "        # Sample with replacement\n",
    "        sample = data.sample(n=len(data), replace=True)\n",
    "        # Calculate mean of FinalHealthScore\n",
    "        means.append(sample['FinalHealthScore'].mean())\n",
    "    return means\n",
    "\n",
    "# Set the number of bootstrap samples\n",
    "n_iterations = 1000\n",
    "\n",
    "# Get bootstrap means\n",
    "bootstraped_means = bootstrap_means(df, n_iterations)\n",
    "\n",
    "# Calculate the mean and 95% confidence interval\n",
    "mean = np.mean(bootstraped_means)\n",
    "ci_lower = np.percentile(bootstraped_means, 2.5)\n",
    "ci_upper = np.percentile(bootstraped_means, 97.5)\n",
    "\n",
    "# Display results\n",
    "print(f\"Mean of Final Health Scores (Bootstrap): {mean:.2f}\")\n",
    "print(f\"95% Confidence Interval: ({ci_lower:.2f}, {ci_upper:.2f})\")\n",
    "\n",
    "# Plot the distribution of bootstrap means\n",
    "plt.hist(bootstraped_means, bins=30, edgecolor='k', alpha=0.7)\n",
    "plt.axvline(mean, color='red', linestyle='dashed', linewidth=1)\n",
    "plt.axvline(ci_lower, color='green', linestyle='dashed', linewidth=1)\n",
    "plt.axvline(ci_upper, color='green', linestyle='dashed', linewidth=1)\n",
    "plt.title('Bootstrap Means of Final Health Scores')\n",
    "plt.xlabel('Mean Final Health Score')\n",
    "plt.ylabel('Frequency')\n",
    "plt.show()\n",
    "\n",
    "from io import StringIO\n",
    "df = pd.read_csv(StringIO(data))\n",
    "\n",
    "# Summary statistics\n",
    "summary_stats = df[['Age', 'InitialHealthScore', 'FinalHealthScore']].describe()\n",
    "print(summary_stats)"
   ]
  },
  {
   "cell_type": "markdown",
   "id": "40b8b87d",
   "metadata": {},
   "source": [
    "The given vaccine dataset includes information about the patient number, age, gender, initial health score, and final healthscore. The main focus of this dataset would be questioning the change from initial health score to final healthscore, what kind of impact the vaccine had on the health of the patients. In the context of this dataset, the meaning of a Null Hypothesis of \"no effect\" would show that the vaccine did not result in any significant change in the health score of the patients. Through the use of the bootstrapping method, I was able to get the mean of the final health score and the 95% confidence interval of the data. First sampling the data with replacement, getting the mean of all the bootstrap samples, and calculating the mean and 95% confidence interval. The purpose of using the bootstrapping method is to obtain an estimate of the distribution of the average, even with the small sample size given. It estimates the accuracy and variability of a statistic. This can be visualized in the histogram above, where the confidence interval i clearly labelled, along with the mean of final health scores. To conclude the data regarding the Null Hypothesis of \"no effect\", the mean of the initial health score is 81, but the 95% confidence interval only ranges from 83 to 85.4. This illustrates that the Null Hypothesis would be rejected because the confidence interval indicates that the vaccine likely had a positive impact on patients' health. "
   ]
  },
  {
   "cell_type": "markdown",
   "id": "40cc4c3c",
   "metadata": {},
   "source": [
    "Summary of Chatbot Session 7: \"Sure! Here’s a summary of our chatbot session:\n",
    "\n",
    "1. **Vaccine Dataset Analysis**:\n",
    "   - You provided a dataset containing patient health scores before and after receiving a vaccine.\n",
    "   - We discussed how to calculate summary statistics (mean, median, standard deviation, etc.) for the dataset.\n",
    "\n",
    "2. **Null Hypothesis of \"No Effect\"**:\n",
    "   - We explained the concept of a Null Hypothesis in the context of the dataset, stating that there is no significant difference between the Initial and Final Health Scores.\n",
    "   - We discussed how to test this hypothesis using statistical methods such as a paired t-test or bootstrapping.\n",
    "\n",
    "3. **Bootstrapping Method**:\n",
    "   - You performed a bootstrapping analysis to estimate the mean and confidence intervals for the Final Health Scores.\n",
    "   - We examined how the results of the bootstrapping could inform conclusions about the effectiveness of the vaccine.\n",
    "\n",
    "4. **Reproducibility with `np.random.seed()`**:\n",
    "   - We covered how to ensure your analysis is reproducible by using `np.random.seed()` in your code.\n",
    "   - This allows anyone running the code to obtain the same results, enhancing transparency in your analysis.\n",
    "\n",
    "5. **Creating and Reading a CSV File**:\n",
    "   - We discussed how to create a CSV file using pandas and how to read that file back into your Python code.\n",
    "   - A complete code example was provided to demonstrate the process from creating the DataFrame to performing bootstrapping analysis after reading the CSV.\n",
    "\n",
    "Overall, the session focused on statistical analysis of vaccine effectiveness using your dataset, emphasizing reproducibility and best practices in data analysis. If you have any other questions or need further assistance, feel free to ask!\""
   ]
  },
  {
   "cell_type": "markdown",
   "id": "b01e4456",
   "metadata": {},
   "source": [
    "Link to Chatbot Session 7: https://chatgpt.com/share/66fee781-d6d4-8005-bd37-28ed55b2e9d4"
   ]
  },
  {
   "cell_type": "markdown",
   "id": "0e7e4a08",
   "metadata": {},
   "source": [
    "9) Somewhat"
   ]
  }
 ],
 "metadata": {
  "kernelspec": {
   "display_name": "Python 3 (ipykernel)",
   "language": "python",
   "name": "python3"
  },
  "language_info": {
   "codemirror_mode": {
    "name": "ipython",
    "version": 3
   },
   "file_extension": ".py",
   "mimetype": "text/x-python",
   "name": "python",
   "nbconvert_exporter": "python",
   "pygments_lexer": "ipython3",
   "version": "3.11.6"
  }
 },
 "nbformat": 4,
 "nbformat_minor": 5
}
